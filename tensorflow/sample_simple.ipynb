{
 "cells": [
  {
   "cell_type": "code",
   "execution_count": null,
   "metadata": {
    "collapsed": true
   },
   "outputs": [],
   "source": [
    "import tensorflow as tf\n",
    "\n",
    "# グラフの構築\n",
    "## 入力ノードopsを構築\n",
    "matrix1 = tf.constant([[3., 3.]])\n",
    "matrix2 = tf.constant([[2.], [2.]])\n",
    "\n",
    "## 出力ノードopを構築\n",
    "product = tf.matmul(matrix1, matrix2)\n",
    "\n",
    "# セッションでグラフを立ち上げる\n",
    "## デフォルトグラフの立ち上げ\n",
    "sess = tf.Session()\n",
    "\n",
    "## matmul()がopの出力を返してもらうことを指定\n",
    "result = sess.run(product)\n",
    "print(result)\n",
    "\n",
    "## セッションを閉じる\n",
    "sess.close()"
   ]
  }
 ],
 "metadata": {
  "kernelspec": {
   "display_name": "Python 3",
   "language": "python",
   "name": "python3"
  },
  "language_info": {
   "codemirror_mode": {
    "name": "ipython",
    "version": 3
   },
   "file_extension": ".py",
   "mimetype": "text/x-python",
   "name": "python",
   "nbconvert_exporter": "python",
   "pygments_lexer": "ipython3",
   "version": "3.6.3"
  }
 },
 "nbformat": 4,
 "nbformat_minor": 2
}
